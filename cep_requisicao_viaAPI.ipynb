{
 "cells": [
  {
   "cell_type": "markdown",
   "id": "b5fe5edc",
   "metadata": {},
   "source": [
    "# Requisição de endereços\n",
    "Este código utiliza-se do Webservice ViaCep para consultar CEP e retornar o endereço, bairro, cidade e estado."
   ]
  },
  {
   "cell_type": "code",
   "execution_count": 1,
   "id": "e42f9a49",
   "metadata": {},
   "outputs": [],
   "source": [
    "#realizando as importações de bibliotecas necessárias\n",
    "import requests\n",
    "from sys import exit\n",
    "import json"
   ]
  },
  {
   "cell_type": "code",
   "execution_count": 29,
   "id": "6cd26f62",
   "metadata": {},
   "outputs": [
    {
     "name": "stdout",
     "output_type": "stream",
     "text": [
      "------------------------------\n",
      "        Consulta CEP      \n",
      "------------------------------\n",
      "\n",
      "CEP a ser consultado:  88020970\n",
      "===> CEP ENCONTRADO <===\n",
      "CEP: 88020-970\n",
      "Rua: Avenida Hercílio Luz 540\n",
      "Complemento: \n",
      "Bairro: Centro\n",
      "Cidade: Florianópolis\n",
      "Estado: SC\n",
      "-----------------\n",
      "Deseja realizar uma nova consulta \n",
      " 1.sim\n",
      " 2.Não\n",
      "2\n",
      "Até logo!\n"
     ]
    }
   ],
   "source": [
    "#Gerando uma função principal para fazer a requisição do CEP\n",
    "def main():\n",
    "    print('-'*30)\n",
    "    print('        Consulta CEP      ')\n",
    "    print('-'*30)\n",
    "    print('')\n",
    "\n",
    "#AdIcionando um input de CEP a ser consultado\n",
    "\n",
    "    cep_consulta = input('CEP a ser consultado:  ').strip()\n",
    "    \n",
    "#Segundo a requisição da API os CEPs precisam conter 8 números, dessa forma o código abaixo impede que CEPs digitados com \n",
    "# letras ou menos de 8 digitos sejam procurados.\n",
    "    \n",
    "    while True:\n",
    "        if cep_consulta.isnumeric() == True:\n",
    "            if len(cep_consulta) == 8 :\n",
    "                break\n",
    "            else:\n",
    "                print('O CEP informado contém erro na quantidade de dígitos, insira o CEP novamente')\n",
    "        else:\n",
    "            print('Digite um CEP contendo apenas 8 dígitos numéricos')        \n",
    "        cep_consulta = input('Digite um CEP:  ').strip()\n",
    "    \n",
    "    \n",
    "    \n",
    "#Request de método GET da API do site Viacep.\n",
    "\n",
    "    request = requests.get(f'https://viacep.com.br/ws/{cep_consulta}/json/')       \n",
    "\n",
    "    address_data = request.json()\n",
    "\n",
    "#Caso o CEP seja um CEP válido e existente, as informações serão exibidas \n",
    "    if 'erro' not in address_data:\n",
    "        print('===> CEP ENCONTRADO <===')\n",
    "        print(f\"CEP: {address_data['cep']}\")\n",
    "        print(f\"Rua: {address_data['logradouro']}\")\n",
    "        print(f\"Complemento: {address_data['complemento']}\")\n",
    "        print(f\"Bairro: {address_data['bairro']}\")\n",
    "        print(f\"Cidade: {address_data['localidade']}\")\n",
    "        print(f\"Estado: {address_data['uf']}\")\n",
    "\n",
    "    else:\n",
    "        print(f'o CEP: {cep_consulta} é inválido')\n",
    "    \n",
    "    print('-----------------')\n",
    "    option = int(input('Deseja realizar uma nova consulta \\n 1.sim\\n 2.Não\\n'))\n",
    "    \n",
    "    if option ==1:\n",
    "        main()\n",
    "    else:\n",
    "        print('Até logo!')\n",
    "    \n",
    "\n",
    "if __name__ == '__main__':\n",
    "    main() "
   ]
  },
  {
   "cell_type": "code",
   "execution_count": null,
   "id": "d622f633",
   "metadata": {},
   "outputs": [],
   "source": []
  }
 ],
 "metadata": {
  "kernelspec": {
   "display_name": "Python 3",
   "language": "python",
   "name": "python3"
  },
  "language_info": {
   "codemirror_mode": {
    "name": "ipython",
    "version": 3
   },
   "file_extension": ".py",
   "mimetype": "text/x-python",
   "name": "python",
   "nbconvert_exporter": "python",
   "pygments_lexer": "ipython3",
   "version": "3.8.8"
  }
 },
 "nbformat": 4,
 "nbformat_minor": 5
}
